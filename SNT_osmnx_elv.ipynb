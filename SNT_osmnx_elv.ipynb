{
 "cells": [
  {
   "cell_type": "markdown",
   "metadata": {},
   "source": [
    "<div id=\"titre\">\n",
    "<h1 style=\"color:white;\n",
    "  font-family:Comic Sans MS;\n",
    "  font-size:3em;\n",
    "  background-color:#F0573B;\n",
    "  text-align:center;\n",
    "  padding:10px\">Plus court chemin dans Paris </h1>\n",
    "<div style=\"font-family:Comic Sans MS; background-color:black;box-shadow: 8px 8px 0px #aaa; text-align:center; width: 50%; color:white\">TP  - SNT</div>\n",
    "</div>"
   ]
  },
  {
   "cell_type": "markdown",
   "metadata": {},
   "source": [
    "Un service de livraison rapide désire établir l’itinéraire le plus court entre deux points de livraison dans le quartier des Champs Elysées à Paris.\n",
    "\n",
    "<table style=\"border-width:10px;border-style:solid;border-color:#F0573B;border-collapse:collapse;\" width=\"400\">\n",
    "   <tr style=\"border:2px solid black;\">\n",
    "       <td style=\"border:2px solid black;text-align:left;border-color:white;\" bgcolor=\"orange\">Adresse de départ du livreur</td>\n",
    "       <td style=\"border:2px solid black;text-align:center;border-color:white\">61 rue galilée 75008 paris</td>\n",
    "   </tr>\n",
    "    <tr style=\"border:2px solid black;\">\n",
    "       <td style=\"border:2px solid black;text-align:left;border-color:white\" bgcolor=\"orange\">Adresse d'arrivée du livreur</td>\n",
    "       <td style=\"border:2px solid black;text-align:center;border-color:white\">16 rue de tilsitt 75017 paris</td>\n",
    "   </tr>\n",
    "</table>\n",
    "\n",
    "Aidons ce livreur à établir son itinéraire.\n",
    "\n",
    "<table style=\"border-width:10px;border-style:solid;border-color:white;border-collapse:collapse;\" width=\"700\">\n",
    "   <tr style=\"border:2px solid black;\">\n",
    "       <td style=\"border:2px solid black;text-align:center;border-color:white\" bgcolor=\"white\"><img src='https://encrypted-tbn0.gstatic.com/images?q=tbn:ANd9GcRSIYyfafAASdspo6lGwsNWpB7tlWCX2D-UJ5hmxWlbxZW3iUJP&s'></td>\n",
    "       <td style=\"border:2px solid black;text-align:center;border-color:white\" bgcolor=\"white\"><img src='https://encrypted-tbn0.gstatic.com/images?q=tbn:ANd9GcTljsVZlYMVl6LkE3VXA8q90LPTYdcf-0s_4FQRmvVHeYnpqcA8UA&s'></td>\n",
    "   </tr>\n",
    "</table>"
   ]
  },
  {
   "cell_type": "markdown",
   "metadata": {},
   "source": [
    "<h1 style=\"color:white;background-color:black;text-align:center\"> Partie A : Carte dynamique</h1>"
   ]
  },
  {
   "cell_type": "markdown",
   "metadata": {},
   "source": [
    "<ul>\n",
    "    <li><b>OpenStreetMap</b> (OSM) est un projet libre et ouvert de cartographie qui a pour but de constituer une base de données géographique du monde en utilisant le système GPS et d'autres données libres. \n",
    "<img src='data:image/jpeg;base64,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'>\n",
    "Il a été mis en route en juillet 2004 par Steve Coast au University College de Londres suite à un constat que l'agence cartographique publique de son pays conserve le droit de reproduction à son profit, alors qu'elle est financée par ses principaux utilisateurs, les contribuables britanniques. Le principe est de partager des données cartographiques basées sur Internet qui permettent l'intervention et la collaboration de tout utilisateur volontaire.</li>\n",
    "    <li>Le module <code>osmnx</code> de python permet d'accéder à ces données et de les exploiter.</li>\n",
    "</ul>"
   ]
  },
  {
   "cell_type": "markdown",
   "metadata": {},
   "source": [
    "<span style='color:white;font-weight:bold;background-color:black;width:12px;padding: 2px;font-size:20px'>1.</span> Coordonnées GPS"
   ]
  },
  {
   "cell_type": "markdown",
   "metadata": {},
   "source": [
    "<span style='color:white;font-weight:bold;background-color:#F0573B;padding: 2px;font-size:20px'>a.</span> Exécuter la cellule suivante pour charger le module <code>osmnx</code>"
   ]
  },
  {
   "cell_type": "code",
   "execution_count": null,
   "metadata": {
    "slideshow": {
     "slide_type": "notes"
    }
   },
   "outputs": [],
   "source": [
    "import osmnx "
   ]
  },
  {
   "cell_type": "markdown",
   "metadata": {},
   "source": [
    "<span style='color:white;font-weight:bold;background-color:#F0573B;padding: 2px;font-size:20px'>b.</span> La fonction <code>geocode</code> du module <code>osmnx</code> renvoie les coordonnées GPS associée à l'adresse renseignée en argument. \n",
    "<br>Exécuter le code ci-dessous :"
   ]
  },
  {
   "cell_type": "code",
   "execution_count": null,
   "metadata": {
    "slideshow": {
     "slide_type": "slide"
    }
   },
   "outputs": [],
   "source": [
    "depart = osmnx.geocode('61 rue galilée 75008 paris')\n",
    "depart"
   ]
  },
  {
   "cell_type": "markdown",
   "metadata": {},
   "source": [
    "<span style='color:white;font-weight:bold;background-color:#F0573B;padding: 2px;font-size:20px'>c.</span> Préciser la signification des nombres contenus dans la variable <code>depart</code>."
   ]
  },
  {
   "cell_type": "markdown",
   "metadata": {},
   "source": [
    "<span style='color:white;font-weight:bold;background-color:#F0573B;padding: 2px;font-size:20px'>d.</span> Obtenir les coordonnées GPS associées à l'adresse de livraison. <br>On les stockera dans une variable nommée <code>arrivee</code>."
   ]
  },
  {
   "cell_type": "code",
   "execution_count": null,
   "metadata": {},
   "outputs": [],
   "source": [
    "arrivee = \n",
    "arrivee"
   ]
  },
  {
   "cell_type": "markdown",
   "metadata": {},
   "source": [
    "<span style='color:white;font-weight:bold;background-color:black;width:12px;padding: 2px;font-size:20px'>2.</span> Au milieu"
   ]
  },
  {
   "cell_type": "markdown",
   "metadata": {},
   "source": [
    "On note $I$ le point situé au milieu des 2 adresses. "
   ]
  },
  {
   "cell_type": "markdown",
   "metadata": {},
   "source": [
    "<span style='color:white;font-weight:bold;background-color:#F0573B;padding: 2px;font-size:20px'>a.</span> Exécuter les cellules suivantes et donner le sens de ces variables."
   ]
  },
  {
   "cell_type": "code",
   "execution_count": null,
   "metadata": {},
   "outputs": [],
   "source": [
    "depart[0]"
   ]
  },
  {
   "cell_type": "code",
   "execution_count": null,
   "metadata": {},
   "outputs": [],
   "source": [
    "depart[1]"
   ]
  },
  {
   "cell_type": "markdown",
   "metadata": {},
   "source": [
    "<span style='color:white;font-weight:bold;background-color:#F0573B;padding: 2px;font-size:20px'>b.</span> Calculer sa latitude que l'on stockera dans une variable notée <code>y</code> "
   ]
  },
  {
   "cell_type": "code",
   "execution_count": null,
   "metadata": {},
   "outputs": [],
   "source": [
    "y = \n",
    "y "
   ]
  },
  {
   "cell_type": "markdown",
   "metadata": {},
   "source": [
    "<span style='color:white;font-weight:bold;background-color:#F0573B;padding: 2px;font-size:20px'>c.</span> Calculer sa longitude que l'on stockera dans une variable notée <code>x</code> "
   ]
  },
  {
   "cell_type": "code",
   "execution_count": null,
   "metadata": {},
   "outputs": [],
   "source": [
    "x = \n",
    "x"
   ]
  },
  {
   "cell_type": "markdown",
   "metadata": {},
   "source": [
    "<span style='color:white;font-weight:bold;background-color:black;width:12px;padding: 2px;font-size:20px'>3.</span> Carte dynamique"
   ]
  },
  {
   "cell_type": "markdown",
   "metadata": {},
   "source": [
    "<span style='color:white;font-weight:bold;background-color:#F0573B;padding: 2px;font-size:20px'>a.</span> Exécuter l'instruction suivante permettant de charger le module <code>folium</code>"
   ]
  },
  {
   "cell_type": "code",
   "execution_count": null,
   "metadata": {},
   "outputs": [],
   "source": [
    "import folium"
   ]
  },
  {
   "cell_type": "markdown",
   "metadata": {},
   "source": [
    "<span style='color:white;font-weight:bold;background-color:#F0573B;padding: 2px;font-size:20px'>b.</span> Pour représenter la carte dynamique centrée en le point $I$ avec <code>folium</code>, exécuter le code suivant"
   ]
  },
  {
   "cell_type": "code",
   "execution_count": null,
   "metadata": {
    "slideshow": {
     "slide_type": "slide"
    }
   },
   "outputs": [],
   "source": [
    "carte = folium.Map(location=(y,x),tiles='OpenStreetMap', zoom_start=15)\n",
    "carte"
   ]
  },
  {
   "cell_type": "markdown",
   "metadata": {},
   "source": [
    "<span style='color:white;font-weight:bold;background-color:#F0573B;padding: 2px;font-size:20px'>c.</span> Pour représenter sur cette carte les marqueurs avec popup associés aux deux adresses précédentes, exécuter"
   ]
  },
  {
   "cell_type": "code",
   "execution_count": null,
   "metadata": {},
   "outputs": [],
   "source": [
    "folium.Marker(depart,popup='depart',icon=folium.Icon(color='gray')).add_to(carte)\n",
    "folium.Marker(arrivee,popup='arrivee',icon=folium.Icon(color='darkpurple')).add_to(carte)\n",
    "carte"
   ]
  },
  {
   "cell_type": "markdown",
   "metadata": {},
   "source": [
    "<h1 style=\"color:white;background-color:black;text-align:center\"> Partie B : Graphe routier</h1>"
   ]
  },
  {
   "cell_type": "markdown",
   "metadata": {},
   "source": [
    "Le module <code>osmnx</code> est capable de fournir le maillage du réseau routier de la ville autour du point $I$ et dans un rayon de 500 mètres."
   ]
  },
  {
   "cell_type": "markdown",
   "metadata": {},
   "source": [
    "<span style='color:white;font-weight:bold;background-color:black;width:12px;padding: 2px;font-size:20px'>1.</span> Obtention et représentation de ce maillage"
   ]
  },
  {
   "cell_type": "markdown",
   "metadata": {},
   "source": [
    "<span style='color:white;font-weight:bold;background-color:#F0573B;padding: 2px;font-size:20px'>a.</span> Exécuter la cellule suivante  "
   ]
  },
  {
   "cell_type": "code",
   "execution_count": null,
   "metadata": {},
   "outputs": [],
   "source": [
    "G = osmnx.graph_from_point((y,x),distance=500,network_type='drive')"
   ]
  },
  {
   "cell_type": "markdown",
   "metadata": {},
   "source": [
    "<span style='color:white;font-weight:bold;background-color:#F0573B;padding: 2px;font-size:20px'>b.</span> <code>G</code> est le graphe associé au réseau routier centré au point $I$ et on peut le dessiner comme suit : "
   ]
  },
  {
   "cell_type": "code",
   "execution_count": null,
   "metadata": {},
   "outputs": [],
   "source": [
    "osmnx.plot_graph(G,\n",
    "              fig_height=8,\n",
    "              fig_width=8,\n",
    "              edge_color='black',node_color='orange',\n",
    "              node_size=50,\n",
    "              edge_linewidth=2,\n",
    "              show=False, close=False,annotate=True)"
   ]
  },
  {
   "cell_type": "markdown",
   "metadata": {},
   "source": [
    "<span style='color:white;font-weight:bold;background-color:#F0573B;padding: 2px;font-size:20px'>c.</span> A partir de la représentation du graphe <code>G</code>, citer : \n",
    "<ul>\n",
    "    <li>deux noeuds quelconques</li>\n",
    "    <li>une arête quelconque</li>\n",
    "</ul>"
   ]
  },
  {
   "cell_type": "markdown",
   "metadata": {},
   "source": [
    "<span style='color:white;font-weight:bold;background-color:black;width:12px;padding: 2px;font-size:20px'>2.</span> Tables des noeuds du graphe <code>G</code> "
   ]
  },
  {
   "cell_type": "markdown",
   "metadata": {},
   "source": [
    "<span style='color:white;font-weight:bold;background-color:#F0573B;padding: 2px;font-size:20px'>a.</span> Exécuter l'instruction suivante"
   ]
  },
  {
   "cell_type": "code",
   "execution_count": null,
   "metadata": {},
   "outputs": [],
   "source": [
    "nodes, edges = osmnx.graph_to_gdfs(G)"
   ]
  },
  {
   "cell_type": "markdown",
   "metadata": {},
   "source": [
    "<span style='color:white;font-weight:bold;background-color:#F0573B;padding: 2px;font-size:20px'>b.</span> La variable <code>nodes</code> est la table relatives aux noeuds du graphe <code>G</code>, exécuter cette intruction pour lire ses 2 premières lignes :"
   ]
  },
  {
   "cell_type": "code",
   "execution_count": null,
   "metadata": {},
   "outputs": [],
   "source": [
    "nodes.head(2)"
   ]
  },
  {
   "cell_type": "markdown",
   "metadata": {},
   "source": [
    "<span style='color:white;font-weight:bold;background-color:#F0573B;padding: 2px;font-size:20px'>c.</span> Donner le nom du premier noeud figurant dans cette table et préciser ses coordonnées GPS."
   ]
  },
  {
   "cell_type": "markdown",
   "metadata": {},
   "source": [
    "<span style='color:white;font-weight:bold;background-color:black;width:12px;padding: 2px;font-size:20px'>3.</span> Tables des arêtes du graphe <code>G</code> "
   ]
  },
  {
   "cell_type": "markdown",
   "metadata": {},
   "source": [
    "<span style='color:white;font-weight:bold;background-color:#F0573B;padding: 2px;font-size:20px'>a.</span> La variable <code>edges</code> est la table relatives aux arêtes du graphe <code>G</code>, exécuter cette intruction pour lire ses 2 premières lignes :"
   ]
  },
  {
   "cell_type": "code",
   "execution_count": null,
   "metadata": {},
   "outputs": [],
   "source": [
    "edges.head(2)"
   ]
  },
  {
   "cell_type": "markdown",
   "metadata": {},
   "source": [
    "<span style='color:white;font-weight:bold;background-color:#F0573B;padding: 2px;font-size:20px'>b.</span> Remplir le tableau suivant pour la première arête :\n",
    "\n",
    "<table style=\"border-width:2px;border-style:solid;border-color:#F0573B;\" width=\"400\">\n",
    "   <tr style=\"border:2px solid #F0573B;\">\n",
    "       <td style=\"border:2px solid #F0573B;text-align:left;\">Nom</td>\n",
    "       <td style=\"border:2px solid #F0573B;text-align:center;\"></td>\n",
    "   </tr>\n",
    "    <tr style=\"border:2px solid #F0573B;\">\n",
    "       <td style=\"border:2px solid #F0573B;text-align:left;\">Longueur (en m)</td>\n",
    "       <td style=\"border:2px solid #F0573B;text-align:center;\"></td>\n",
    "   </tr>\n",
    "    <tr style=\"border:2px solid #F0573B;\">\n",
    "       <td style=\"border:2px solid #F0573B;text-align:left;\">Vitesse maximale (en km/h)</td>\n",
    "       <td style=\"border:2px solid #F0573B;text-align:center;\"></td>\n",
    "   </tr>\n",
    "    <tr style=\"border:2px solid #F0573B;\">\n",
    "       <td style=\"border:2px solid #F0573B;text-align:left;\">Numéro premier noeud</td>\n",
    "       <td style=\"border:2px solid #F0573B;text-align:center;\"></td>\n",
    "   </tr>\n",
    "    <tr style=\"border:2px solid #F0573B;\">\n",
    "       <td style=\"border:2px solid #F0573B;text-align:left;\">Numéro second noeud</td>\n",
    "       <td style=\"border:2px solid #F0573B;text-align:center;\"></td>\n",
    "   </tr>\n",
    "</table>"
   ]
  },
  {
   "cell_type": "markdown",
   "metadata": {},
   "source": [
    "<span style='color:white;font-weight:bold;background-color:#F0573B;padding: 2px;font-size:20px'>c.</span> La première arête et la seconde sont-elles reliées ?"
   ]
  },
  {
   "cell_type": "markdown",
   "metadata": {},
   "source": [
    "<span style='color:white;font-weight:bold;background-color:black;width:12px;padding: 2px;font-size:20px'>4.</span> Représentation du graphe <code>G</code> sur <code>carte</code>"
   ]
  },
  {
   "cell_type": "markdown",
   "metadata": {},
   "source": [
    "<span style='color:white;font-weight:bold;background-color:#F0573B;padding: 2px;font-size:20px'>a.</span> Pour représenter les noeuds, exécuter le code ci-dessous"
   ]
  },
  {
   "cell_type": "code",
   "execution_count": null,
   "metadata": {},
   "outputs": [],
   "source": [
    "for id in nodes.index:\n",
    "    folium.Marker((nodes.loc[id,'y'],nodes.loc[id,'x']),\n",
    "                  popup=id,\n",
    "                  icon=folium.Icon(color='orange')).add_to(carte)\n",
    "carte"
   ]
  },
  {
   "cell_type": "markdown",
   "metadata": {},
   "source": [
    "<span style='color:white;font-weight:bold;background-color:#F0573B;padding: 2px;font-size:20px'>b.</span> Pour représenter les arêtes, exécuter le code ci-dessous"
   ]
  },
  {
   "cell_type": "code",
   "execution_count": null,
   "metadata": {},
   "outputs": [],
   "source": [
    "folium.Choropleth(edges,line_weight=3,\n",
    "                  line_color='red',\n",
    "                 line_opacity=0.5).add_to(carte)\n",
    "carte"
   ]
  },
  {
   "cell_type": "markdown",
   "metadata": {},
   "source": [
    "<span style='color:white;font-weight:bold;background-color:black;width:12px;padding: 2px;font-size:20px'>5.</span> Noeuds les plus proches"
   ]
  },
  {
   "cell_type": "markdown",
   "metadata": {},
   "source": [
    "En zoomant et cliquant sur les éléments de la carte, citer \n",
    "<br>\n",
    "<br><span style='color:white;font-weight:bold;background-color:#F0573B;padding: 2px;font-size:20px'>a.</span> le noeud de <code>G</code> le plus proche de <code>depart</code>\n",
    "<br>\n",
    "<br><span style='color:white;font-weight:bold;background-color:#F0573B;padding: 2px;font-size:20px'>b.</span> le noeud de <code>G</code> le plus proche de <code>arrivee</code>"
   ]
  },
  {
   "cell_type": "markdown",
   "metadata": {},
   "source": [
    "<span style='color:white;font-weight:bold;background-color:#F0573B;padding: 2px;font-size:20px'>c.</span> Exécuter l'instruction suivante et interpréter le contenu des variables affichées en sortie."
   ]
  },
  {
   "cell_type": "code",
   "execution_count": null,
   "metadata": {},
   "outputs": [],
   "source": [
    "n1, d1 = osmnx.get_nearest_node(G, depart,return_dist=True)\n",
    "n1, d1"
   ]
  },
  {
   "cell_type": "markdown",
   "metadata": {},
   "source": [
    "<span style='color:white;font-weight:bold;background-color:#F0573B;padding: 2px;font-size:20px'>d.</span> A quelle distance se situe le noeud de <code>G</code> le plus proche de <code>arrivee</code> ?\n",
    "<br> On notera <code>d2</code> la variable contenant cette distance."
   ]
  },
  {
   "cell_type": "code",
   "execution_count": null,
   "metadata": {},
   "outputs": [],
   "source": [
    "n2, d2 = \n",
    "n2, d2"
   ]
  },
  {
   "cell_type": "markdown",
   "metadata": {},
   "source": [
    "<h1 style=\"color:white;background-color:black;text-align:center\"> Partie C : Recherche de chemins les plus courts</h1>"
   ]
  },
  {
   "cell_type": "markdown",
   "metadata": {},
   "source": [
    "<b><u>Objectifs</u></b>\n",
    "<blockquote style=\"border-left: 10px solid black;background-color:#F0573B\">\n",
    "    <ul>\n",
    "        <li>Etude de 2 chemins \"raisonnables\" en listant les noeuds qui les noeuds du composent.\n",
    "        </li>\n",
    "        <li> Déterminer la longueur totale du chemin, exprimée en mètre.  \n",
    "        </li>\n",
    "    </ul>\n",
    "</blockquote>"
   ]
  },
  {
   "cell_type": "markdown",
   "metadata": {},
   "source": [
    "<span style='color:white;font-weight:bold;background-color:black;width:12px;padding: 2px;font-size:20px'>1.</span> Proposition de 2 chemins"
   ]
  },
  {
   "cell_type": "markdown",
   "metadata": {},
   "source": [
    "<span style='color:white;font-weight:bold;background-color:#F0573B;padding: 2px;font-size:20px'>a.</span> Nous définissons ci-dessous :\n",
    "<ul>\n",
    "    <li>la variable <code>chemin1</code> qui liste les noeuds d'un premier chemin.</li> \n",
    "    <li>la variable <code>chemin2</code> qui liste les noeuds d'un second chemin.</li>\n",
    "</ul>\n",
    "Exécuter la cellule suivante :"
   ]
  },
  {
   "cell_type": "code",
   "execution_count": null,
   "metadata": {},
   "outputs": [],
   "source": [
    "chemin1 = [25626299,368338,34843118,6736481995,661221,661220,661218]\n",
    "chemin2 = [25626299,495986890,305208580,368325,368322,368321,368320,368319,661218]"
   ]
  },
  {
   "cell_type": "markdown",
   "metadata": {},
   "source": [
    "<span style='color:white;font-weight:bold;background-color:#F0573B;padding: 2px;font-size:20px'>b.</span> En zoomant et cliquant sur <code>carte</code>, retrouver ces deux chemins et les colorier sur la figure suivante mise (dans votre document réponse) : \n",
    "<ul>\n",
    "    <li>le <b><span style='color:red'>chemin 1</span></b> en <b><span style='color:red'>rouge</span></b></li>\n",
    "        <li>le <b><span style='color:green'>chemin 2</span></b> en <b><span style='color:green'>vert</span></b></li>\n",
    "   </ul>\n",
    "<img src='figure_graphe_zoom.PNG' width='300'>"
   ]
  },
  {
   "cell_type": "markdown",
   "metadata": {},
   "source": [
    "<span style='color:white;font-weight:bold;background-color:black;width:12px;padding: 2px;font-size:20px'>2.</span> Table des arêtes de <b><span style='color:red'>chemin 1</span></b>"
   ]
  },
  {
   "cell_type": "markdown",
   "metadata": {},
   "source": [
    "<span style='color:white;font-weight:bold;background-color:#F0573B;padding: 2px;font-size:20px'>a.</span> Compléter :\n",
    "<blockquote style=\"border-left: 2px solid #F0573B;background-color:white\">\n",
    "    <ul>\n",
    "        <li>Toute arête de <b><span style='color:red'>chemin 1</span></b> a pour extrémités deux noeuds de <code>chemin1</code>.</li>\n",
    "        <li>Il s'agit donc de sélectionner les arêtes de <code>G</code> où la première extrémité appartient à <code>chemin1</code> ............. la seconde à <code>chemin1</code></li>\n",
    "    </ul>\n",
    "</blockquote>"
   ]
  },
  {
   "cell_type": "markdown",
   "metadata": {},
   "source": [
    "<span style='color:white;font-weight:bold;background-color:#F0573B;padding: 2px;font-size:20px'>b.</span> Compléter puis exécuter l'instruction suivante pour obtenir la table <code>A1</code> des arêtes de <b><span style='color:red'>chemin 1</span></b> \n",
    "<br>\n",
    "<br>\n",
    "<span style='background-color:lightgreen;padding:8px'><b>Indication :</b> utiliser un des connecteurs <code>and</code>, <code>or</code>. </span>"
   ]
  },
  {
   "cell_type": "code",
   "execution_count": null,
   "metadata": {},
   "outputs": [],
   "source": [
    "A1 = edges.query('u in @chemin1 ..... v in @chemin1')\n",
    "A1"
   ]
  },
  {
   "cell_type": "markdown",
   "metadata": {},
   "source": [
    "<span style='color:white;font-weight:bold;background-color:#F0573B;padding: 2px;font-size:20px'>c.</span> Exécuter l'instruction suivante et dire ce qu'elle représente par rapport à <b><span style='color:red'>chemin 1</span></b> ?"
   ]
  },
  {
   "cell_type": "code",
   "execution_count": null,
   "metadata": {},
   "outputs": [],
   "source": [
    "A1['length'].sum()"
   ]
  },
  {
   "cell_type": "markdown",
   "metadata": {},
   "source": [
    "<span style='color:white;font-weight:bold;background-color:black;width:12px;padding: 2px;font-size:20px'>3.</span> Compaison avec l'autre chemin"
   ]
  },
  {
   "cell_type": "markdown",
   "metadata": {},
   "source": [
    "<span style='color:white;font-weight:bold;background-color:#F0573B;padding: 2px;font-size:20px'>a.</span> Calculer la longueur totale (exprimée en mètre) de <b><span style='color:green'>chemin 2</span></b>."
   ]
  },
  {
   "cell_type": "code",
   "execution_count": null,
   "metadata": {},
   "outputs": [],
   "source": [
    "A2 = edges.query('u in @chemin2 and v in @chemin2')\n",
    "A2['length'].sum()"
   ]
  },
  {
   "cell_type": "markdown",
   "metadata": {},
   "source": [
    "<span style='color:white;font-weight:bold;background-color:#F0573B;padding: 2px;font-size:20px'>b.</span> Parmi ces 2 chemins, lequel conseillerez-vous ?"
   ]
  },
  {
   "cell_type": "markdown",
   "metadata": {},
   "source": [
    "<span style='color:white;font-weight:bold;background-color:#F0573B;padding: 2px;font-size:20px'>c.</span> Citer une autre façon de comparer ces 2 chemins ?"
   ]
  },
  {
   "cell_type": "markdown",
   "metadata": {},
   "source": [
    "<span style='color:white;font-weight:bold;background-color:black;width:12px;padding: 2px;font-size:20px'>4.</span> Bonus représentation des chemins sur <code>carte</code>"
   ]
  },
  {
   "cell_type": "markdown",
   "metadata": {},
   "source": [
    "<span style='color:white;font-weight:bold;background-color:#F0573B;padding: 2px;font-size:20px'>a.</span> Pour représenter un chemin sur <code>carte</code>, on définit la fonction suivante :"
   ]
  },
  {
   "cell_type": "code",
   "execution_count": null,
   "metadata": {},
   "outputs": [],
   "source": [
    "def route(chemin):\n",
    "    \"\"\"Création de carte\"\"\"\n",
    "    carte = folium.Map(location=(y,x),tiles='OpenStreetMap', zoom_start=16)\n",
    "    folium.Choropleth(edges,line_weight=3,\n",
    "                      line_color='red',\n",
    "                      line_opacity=0.5).add_to(carte)\n",
    "    \n",
    "    \"\"\"Table des noeuds qui forment le chemin\"\"\"\n",
    "    N = nodes.query('@chemin in index')\n",
    "    # Représentation des arêtes dans carte\n",
    "    folium.Choropleth(N).add_to(carte)\n",
    "    \n",
    "    \"\"\"Table des arêtes qui forment le chemin\"\"\"\n",
    "    A = edges.query('u in @chemin and v in @chemin')\n",
    "    # Représentation des arêtes dans carte\n",
    "    folium.Choropleth(A,\n",
    "                      line_weight=10,\n",
    "                      line_color='purple',\n",
    "                      line_opacity=0.6).add_to(carte)\n",
    "    \n",
    "    folium.Marker(depart,popup='depart',icon=folium.Icon(color='gray')).add_to(carte)\n",
    "    folium.Marker(arrivee,popup='arrivee',icon=folium.Icon(color='darkpurple')).add_to(carte)\n",
    "    \n",
    "    return carte"
   ]
  },
  {
   "cell_type": "markdown",
   "metadata": {},
   "source": [
    "<span style='color:white;font-weight:bold;background-color:#F0573B;padding: 2px;font-size:20px'>b.</span> Exécuter cette fonction pour présenter <b><span style='color:red'>chemin 1</span></b> et <b><span style='color:green'>chemin 2</span></b>"
   ]
  },
  {
   "cell_type": "code",
   "execution_count": null,
   "metadata": {},
   "outputs": [],
   "source": [
    "route(chemin1)"
   ]
  },
  {
   "cell_type": "code",
   "execution_count": null,
   "metadata": {},
   "outputs": [],
   "source": [
    "route(chemin2)"
   ]
  },
  {
   "cell_type": "markdown",
   "metadata": {},
   "source": [
    "<h1 style=\"color:white;background-color:black;text-align:center\"> Partie D : Recherche de chemins les plus courts en temps</h1>"
   ]
  },
  {
   "cell_type": "markdown",
   "metadata": {},
   "source": [
    "<span style='color:white;font-weight:bold;background-color:black;width:12px;padding: 2px;font-size:20px'>1.</span> Temps minimum pour rouler sur <b><span style='color:red'>chemin 1</span></b>"
   ]
  },
  {
   "cell_type": "markdown",
   "metadata": {},
   "source": [
    "<span style='color:white;font-weight:bold;background-color:#F0573B;padding: 2px;font-size:20px'>a.</span> On affiche de nouveau <code>A1</code>"
   ]
  },
  {
   "cell_type": "code",
   "execution_count": null,
   "metadata": {},
   "outputs": [],
   "source": [
    "A1.head(2)"
   ]
  },
  {
   "cell_type": "markdown",
   "metadata": {},
   "source": [
    "<span style='color:white;font-weight:bold;background-color:#F0573B;padding: 2px;font-size:20px'>b.</span> Exécuter l'instruction suivante puis indiquer si la colonne <code>maxspeed</code> de <code>A1</code> ne contient que des nombres de type <b>entier</b> ou <b>flottant</b> ?"
   ]
  },
  {
   "cell_type": "code",
   "execution_count": null,
   "metadata": {},
   "outputs": [],
   "source": [
    "A1.dtypes"
   ]
  },
  {
   "cell_type": "markdown",
   "metadata": {},
   "source": [
    "<span style='color:white;font-weight:bold;background-color:#F0573B;padding: 2px;font-size:20px'>c.</span> Pour palier à ce problème on définit la fonction <code>aretes</code> ci-dessous.\n",
    "<br> Exécuter cette fonction."
   ]
  },
  {
   "cell_type": "code",
   "execution_count": null,
   "metadata": {},
   "outputs": [],
   "source": [
    "def aretes(chemin):\n",
    "    A = edges.query('u in @chemin and v in @chemin').copy()\n",
    "    A['maxspeed'] = A['maxspeed'].astype('int')\n",
    "    return A[['length','maxspeed','u','v']]"
   ]
  },
  {
   "cell_type": "markdown",
   "metadata": {},
   "source": [
    "<span style='color:white;font-weight:bold;background-color:#F0573B;padding: 2px;font-size:20px'>d.</span> Compléter puis exécuter cette cellule puis utiliser cette fonction pour obtenir la table nommée <code>T1</code> contenant les arêtes de <code>chemin1</code>."
   ]
  },
  {
   "cell_type": "code",
   "execution_count": null,
   "metadata": {},
   "outputs": [],
   "source": [
    "T1 = aretes(..............)\n",
    "T1"
   ]
  },
  {
   "cell_type": "markdown",
   "metadata": {},
   "source": [
    "<span style='color:white;font-weight:bold;background-color:#F0573B;padding: 2px;font-size:20px'>e.</span> Compléter l'instruction permettant de créer la colonne <code>'d'</code> formée des distances de chaque arête <i>(exprimées en km)</i>."
   ]
  },
  {
   "cell_type": "code",
   "execution_count": null,
   "metadata": {},
   "outputs": [],
   "source": [
    "T1['d'] = .........................\n",
    "T1"
   ]
  },
  {
   "cell_type": "markdown",
   "metadata": {},
   "source": [
    "<span style='color:white;font-weight:bold;background-color:#F0573B;padding: 2px;font-size:20px'>f.</span> Compléter l'instruction permettant de créer la colonne <code>'t'</code> formée des temps <i>(exprimés en seconde)</i> pour parcourir chaque arête."
   ]
  },
  {
   "cell_type": "code",
   "execution_count": null,
   "metadata": {},
   "outputs": [],
   "source": [
    "T1['t'] = .....................................\n",
    "T1"
   ]
  },
  {
   "cell_type": "markdown",
   "metadata": {},
   "source": [
    "<span style='color:white;font-weight:bold;background-color:#F0573B;padding: 2px;font-size:20px'>g.</span> Calculer le temps à mettre pour emprunter <b><span style='color:red'>chemin 1</span></b>."
   ]
  },
  {
   "cell_type": "code",
   "execution_count": null,
   "metadata": {},
   "outputs": [],
   "source": [
    "T1['t'].sum()"
   ]
  },
  {
   "cell_type": "markdown",
   "metadata": {},
   "source": [
    "<span style='color:white;font-weight:bold;background-color:black;width:12px;padding: 2px;font-size:20px'>2.</span> Temps minimum pour rouler sur <b><span style='color:green'>chemin 2</span></b>"
   ]
  },
  {
   "cell_type": "code",
   "execution_count": null,
   "metadata": {},
   "outputs": [],
   "source": [
    "T2 = aretes(chemin2)\n",
    "T2['d'] = T2['length']/1000\n",
    "T2['t'] = T2['d']/T2['maxspeed']*60**2\n",
    "T2['t'].sum()"
   ]
  },
  {
   "cell_type": "markdown",
   "metadata": {},
   "source": [
    "<span style='color:white;font-weight:bold;background-color:black;width:12px;padding: 2px;font-size:20px'>3.</span> Comparaison des 2 chemins"
   ]
  },
  {
   "cell_type": "markdown",
   "metadata": {},
   "source": [
    "Lequel des 2 chemins est le plus rapide en temps ?"
   ]
  },
  {
   "cell_type": "markdown",
   "metadata": {},
   "source": [
    "<h1 style=\"color:white;background-color:black;text-align:center\"> Partie E : chemin du retour et networkx</h1>"
   ]
  },
  {
   "cell_type": "markdown",
   "metadata": {},
   "source": [
    "<span style='color:white;font-weight:bold;background-color:black;width:12px;padding: 2px;font-size:20px'>1.</span> Noeud de départ"
   ]
  },
  {
   "cell_type": "markdown",
   "metadata": {},
   "source": [
    "<span style='color:white;font-weight:bold;background-color:#F0573B;padding: 2px;font-size:20px'>a.</span> Sélectionner les arêtes qui ont pour noeud de départ <code>n2</code>"
   ]
  },
  {
   "cell_type": "code",
   "execution_count": null,
   "metadata": {},
   "outputs": [],
   "source": [
    "edges.query('u................')"
   ]
  },
  {
   "cell_type": "markdown",
   "metadata": {},
   "source": [
    "<span style='color:white;font-weight:bold;background-color:#F0573B;padding: 2px;font-size:20px'>b.</span> La rue de Tilsit est-elle à sens unique ?\n",
    "<br> Peut-on repartir à partir du noeud <code>n2</code> ?"
   ]
  },
  {
   "cell_type": "markdown",
   "metadata": {},
   "source": [
    "<span style='color:white;font-weight:bold;background-color:black;width:12px;padding: 2px;font-size:20px'>2.</span> Noeud d'arrivée"
   ]
  },
  {
   "cell_type": "markdown",
   "metadata": {},
   "source": [
    "<span style='color:white;font-weight:bold;background-color:#F0573B;padding: 2px;font-size:20px'>a.</span> Sélectionner les arêtes qui ont pour arrivée le noeud <code>n1</code>"
   ]
  },
  {
   "cell_type": "code",
   "execution_count": null,
   "metadata": {},
   "outputs": [],
   "source": []
  },
  {
   "cell_type": "markdown",
   "metadata": {},
   "source": [
    "<span style='color:white;font-weight:bold;background-color:#F0573B;padding: 2px;font-size:20px'>b.</span> Donner le numéro du noeud qui permet d'arriver sur la rue Galilée.\n",
    "<br> On nommera <code>na</code> la variable qui contient ce numéro."
   ]
  },
  {
   "cell_type": "code",
   "execution_count": null,
   "metadata": {},
   "outputs": [],
   "source": [
    "na = 661225"
   ]
  },
  {
   "cell_type": "markdown",
   "metadata": {},
   "source": [
    "<span style='color:white;font-weight:bold;background-color:black;width:12px;padding: 2px;font-size:20px'>3.</span> Chemin le plaus court de <code>n2</code> à <code>na</code>"
   ]
  },
  {
   "cell_type": "markdown",
   "metadata": {},
   "source": [
    "<span style='color:white;font-weight:bold;background-color:#F0573B;padding: 2px;font-size:20px'>a.</span> Charger le module <code>networkx</code> qui permet de gérer les graphes."
   ]
  },
  {
   "cell_type": "code",
   "execution_count": null,
   "metadata": {},
   "outputs": [],
   "source": [
    "import networkx as nx"
   ]
  },
  {
   "cell_type": "markdown",
   "metadata": {},
   "source": [
    "<span style='color:white;font-weight:bold;background-color:#F0573B;padding: 2px;font-size:20px'>b.</span> Exécuter l'instruction suivante qui permet de renvoyer le plus court chemin <i>(en distance)</i> entre les noeuds <code>n2</code> et <code>na</code>."
   ]
  },
  {
   "cell_type": "code",
   "execution_count": null,
   "metadata": {},
   "outputs": [],
   "source": [
    "retour = nx.shortest_path(G,n2,na)\n",
    "retour"
   ]
  },
  {
   "cell_type": "markdown",
   "metadata": {},
   "source": [
    "<span style='background-color:lightblue;padding:10px'><b>Remarque :</b> c'est l'algorithme de <b>Dijkstra</b> qui est utilisé ici pour déterminer le plus court chemin.</span>"
   ]
  },
  {
   "cell_type": "markdown",
   "metadata": {},
   "source": [
    "<span style='color:white;font-weight:bold;background-color:#F0573B;padding: 2px;font-size:20px'>c.</span> Visualiser ce chemin à l'aide de la fonction <code>route</code>. "
   ]
  },
  {
   "cell_type": "code",
   "execution_count": null,
   "metadata": {},
   "outputs": [],
   "source": []
  },
  {
   "cell_type": "markdown",
   "metadata": {},
   "source": [
    "<span style='color:white;font-weight:bold;background-color:black;width:12px;padding: 2px;font-size:20px'>4.</span> Distance totale porte à porte entre les 2 adresses "
   ]
  },
  {
   "cell_type": "markdown",
   "metadata": {},
   "source": [
    "La distance totale entre les 2 adresses, porte à porte, dépasse-t-elle <b>1 km</b> ?"
   ]
  },
  {
   "cell_type": "code",
   "execution_count": null,
   "metadata": {},
   "outputs": [],
   "source": []
  },
  {
   "cell_type": "code",
   "execution_count": null,
   "metadata": {},
   "outputs": [],
   "source": []
  }
 ],
 "metadata": {
  "celltoolbar": "Format de la Cellule Texte Brut",
  "kernelspec": {
   "display_name": "Python 3",
   "language": "python",
   "name": "python3"
  },
  "language_info": {
   "codemirror_mode": {
    "name": "ipython",
    "version": 3
   },
   "file_extension": ".py",
   "mimetype": "text/x-python",
   "name": "python",
   "nbconvert_exporter": "python",
   "pygments_lexer": "ipython3",
   "version": "3.6.7"
  }
 },
 "nbformat": 4,
 "nbformat_minor": 2
}
